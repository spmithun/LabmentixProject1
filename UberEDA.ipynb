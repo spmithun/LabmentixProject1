{
  "nbformat": 4,
  "nbformat_minor": 0,
  "metadata": {
    "colab": {
      "private_outputs": true,
      "provenance": [],
      "collapsed_sections": [
        "gIfDvo9L0UH2"
      ],
      "include_colab_link": true
    },
    "kernelspec": {
      "name": "python3",
      "display_name": "Python 3"
    },
    "language_info": {
      "name": "python"
    }
  },
  "cells": [
    {
      "cell_type": "markdown",
      "metadata": {
        "id": "view-in-github",
        "colab_type": "text"
      },
      "source": [
        "<a href=\"https://colab.research.google.com/github/spmithun/LabmentixProject1/blob/main/UberEDA.ipynb\" target=\"_parent\"><img src=\"https://colab.research.google.com/assets/colab-badge.svg\" alt=\"Open In Colab\"/></a>"
      ]
    },
    {
      "cell_type": "markdown",
      "source": [
        "# **Project Name**    -  *UBER Supply Demand Gap*\n",
        "\n",
        "\n"
      ],
      "metadata": {
        "id": "vncDsAP0Gaoa"
      }
    },
    {
      "cell_type": "markdown",
      "source": [
        "##### **Project Type**    - EDA/Regression/Classification/Unsupervised\n",
        "##### **Contribution**    - Individual\n",
        "##### **Team Member 1 -**  *S P Mithun*\n"
      ],
      "metadata": {
        "id": "beRrZCGUAJYm"
      }
    },
    {
      "cell_type": "markdown",
      "source": [
        "# **Project Summary -**"
      ],
      "metadata": {
        "id": "FJNUwmbgGyua"
      }
    },
    {
      "cell_type": "markdown",
      "source": [
        "This project centers on the analysis of Uber ride request data with the goal of identifying and understanding the supply-demand gap that frequently leads to failed ride requests, particularly through cancellations and “No Cars Available” scenarios. The approach adopted was methodologically layered and tool-specific, with an emphasis on using Excel, SQL, and Python (Pandas and visualization libraries) to carry out various stages of the data analysis pipeline.\n",
        "\n",
        "The process began with data cleaning and preparation using Excel, which involved multiple steps to make the dataset analysis-ready. First, inconsistent date-time formats in the Request timestamp and Drop timestamp columns were converted to a standard format, allowing temporal analysis. Missing values—especially in the Driver id and Drop timestamp fields—were flagged and interpreted in the context of trip status. Unassigned drivers were treated as indicators of failed request attempts. Duplicate records were removed, and derived columns such as hour-of-day and trip duration were added to support downstream analysis. Once cleaned, the dataset was formatted into structured tables for visualization.\n",
        "\n",
        "Following Excel, we shifted to SQL-based exploration, which involved writing queries to extract specific insights from the cleaned dataset. These queries focused on summarizing ride statuses by pickup point, computing failure percentages, analyzing driver participation patterns, and isolating time blocks with maximum unfulfilled requests. SQL was particularly effective in aggregating trip outcomes hour-wise and computing the proportion of completed trips versus failures. We also used SQL to compare the request-to-completion ratio across the City and Airport pickup zones.\n",
        "\n",
        "The final and most detailed layer of analysis was carried out using Python, primarily with Pandas for data wrangling and Matplotlib/Seaborn for visualizations. The dataset was grouped and filtered extensively to perform complex Exploratory Data Analysis (EDA). Key operations included generating time-series plots to observe request volume across the day, computing trip durations and mapping them against status, and constructing stacked bar graphs to visualize status breakdowns by hour and location. A heatmap was created to capture request density across hour-of-day and pickup point combinations. We also analyzed the distribution of trip outcomes across weekdays and weekends, with special focus on high-demand slots.\n",
        "\n",
        "This multi-tool process not only ensured a robust analysis from multiple angles but also enabled cross-validation of findings across tools, increasing confidence in the conclusions drawn.\n",
        "\n",
        "A key insight was the identification of shift change hours—around 2 PM and 10 PM—as high-risk windows for trip failure. During these times, a clear drop in driver engagement led to increased cancellations or lack of driver assignment. Additionally, Airport pickups during early morning hours (5–9 AM) often suffered from lack of available cars despite high demand, and City pickups in the evening (5–9 PM) experienced frequent cancellations by drivers, likely due to traffic or trip preference.\n",
        "\n",
        "These findings underscore the importance of dynamic scheduling, better shift planning, and incentive-driven driver alignment. The analysis presents actionable recommendations for Uber to minimize failures, optimize supply, and enhance the rider experience."
      ],
      "metadata": {
        "id": "F6v_1wHtG2nS"
      }
    },
    {
      "cell_type": "markdown",
      "source": [
        "# **GitHub Link -**"
      ],
      "metadata": {
        "id": "w6K7xa23Elo4"
      }
    },
    {
      "cell_type": "markdown",
      "source": [
        "https://github.com/spmithun/LabmentixProject1"
      ],
      "metadata": {
        "id": "h1o69JH3Eqqn"
      }
    },
    {
      "cell_type": "markdown",
      "source": [
        "# **Problem Statement**\n"
      ],
      "metadata": {
        "id": "yQaldy8SH6Dl"
      }
    },
    {
      "cell_type": "markdown",
      "source": [
        "**Uber, as a ride-hailing platform, frequently encounters a supply-demand mismatch where customer requests are either cancelled or met with no cars available, especially during peak hours or at specific locations like the airport. This gap causes dissatisfaction for riders, inefficient fleet usage for Uber, and potential revenue loss. The company wants to identify patterns and root causes of such failures by analyzing request-level data.**"
      ],
      "metadata": {
        "id": "DpeJGUA3kjGy"
      }
    },
    {
      "cell_type": "markdown",
      "source": [
        "#### **Define Your Business Objective?**"
      ],
      "metadata": {
        "id": "PH-0ReGfmX4f"
      }
    },
    {
      "cell_type": "markdown",
      "source": [
        "Identify when and where Uber faces the highest demand-supply mismatch.\n",
        "\n",
        "Understand root causes of trip failures (cancellations, unavailability).\n",
        "\n",
        "Suggest operational strategies to reduce such mismatches and improve service levels.\n",
        "\n",
        "Help Uber maximize completed trips, increase rider satisfaction, and optimize driver deployment.\n",
        "\n"
      ],
      "metadata": {
        "id": "PhDvGCAqmjP1"
      }
    },
    {
      "cell_type": "markdown",
      "source": [
        "# **General Guidelines** : -  "
      ],
      "metadata": {
        "id": "mDgbUHAGgjLW"
      }
    },
    {
      "cell_type": "markdown",
      "source": [
        "1.   Well-structured, formatted, and commented code is required.\n",
        "2.   Exception Handling, Production Grade Code & Deployment Ready Code will be a plus. Those students will be awarded some additional credits.\n",
        "     \n",
        "     The additional credits will have advantages over other students during Star Student selection.\n",
        "       \n",
        "             [ Note: - Deployment Ready Code is defined as, the whole .ipynb notebook should be executable in one go\n",
        "                       without a single error logged. ]\n",
        "\n",
        "3.   Each and every logic should have proper comments.\n",
        "4. You may add as many number of charts you want. Make Sure for each and every chart the following format should be answered.\n",
        "        \n",
        "\n",
        "```\n",
        "# Chart visualization code\n",
        "```\n",
        "            \n",
        "\n",
        "*   Why did you pick the specific chart?\n",
        "*   What is/are the insight(s) found from the chart?\n",
        "* Will the gained insights help creating a positive business impact?\n",
        "Are there any insights that lead to negative growth? Justify with specific reason.\n",
        "\n",
        "5. You have to create at least 20 logical & meaningful charts having important insights.\n",
        "\n",
        "\n",
        "[ Hints : - Do the Vizualization in  a structured way while following \"UBM\" Rule.\n",
        "\n",
        "U - Univariate Analysis,\n",
        "\n",
        "B - Bivariate Analysis (Numerical - Categorical, Numerical - Numerical, Categorical - Categorical)\n",
        "\n",
        "M - Multivariate Analysis\n",
        " ]\n",
        "\n",
        "\n",
        "\n"
      ],
      "metadata": {
        "id": "ZrxVaUj-hHfC"
      }
    },
    {
      "cell_type": "markdown",
      "source": [
        "# ***Let's Begin !***"
      ],
      "metadata": {
        "id": "O_i_v8NEhb9l"
      }
    },
    {
      "cell_type": "markdown",
      "source": [
        "## ***1. Know Your Data***"
      ],
      "metadata": {
        "id": "HhfV-JJviCcP"
      }
    },
    {
      "cell_type": "markdown",
      "source": [
        "### Import Libraries"
      ],
      "metadata": {
        "id": "Y3lxredqlCYt"
      }
    },
    {
      "cell_type": "code",
      "source": [
        "#import Libraries\n",
        "import pandas as pd\n",
        "import matplotlib.pyplot as plt\n",
        "import seaborn as sns\n",
        "import plotly.express as px\n",
        "\n",
        "from IPython.display import display\n",
        "\n",
        "plt.style.use('seaborn-v0_8-darkgrid')\n",
        "sns.set_context(\"talk\", font_scale=0.9)"
      ],
      "metadata": {
        "id": "M8Vqi-pPk-HR"
      },
      "execution_count": null,
      "outputs": []
    },
    {
      "cell_type": "markdown",
      "source": [
        "### Dataset Loading"
      ],
      "metadata": {
        "id": "3RnN4peoiCZX"
      }
    },
    {
      "cell_type": "code",
      "source": [
        "#Load dataset\n",
        "df = pd.read_csv('/content/Uber_Request_Data_CSV.csv', parse_dates=['Request_timestamp', 'Drop_timestamp'])\n"
      ],
      "metadata": {
        "id": "4CkvbW_SlZ_R"
      },
      "execution_count": null,
      "outputs": []
    },
    {
      "cell_type": "markdown",
      "source": [
        "### Dataset First View"
      ],
      "metadata": {
        "id": "x71ZqKXriCWQ"
      }
    },
    {
      "cell_type": "code",
      "source": [
        "# Dataset First Look\n",
        "print(df.head())"
      ],
      "metadata": {
        "id": "LWNFOSvLl09H"
      },
      "execution_count": null,
      "outputs": []
    },
    {
      "cell_type": "markdown",
      "source": [
        "### Dataset Rows & Columns count"
      ],
      "metadata": {
        "id": "7hBIi_osiCS2"
      }
    },
    {
      "cell_type": "code",
      "source": [
        "#dataset rows and columns count\n",
        "\n",
        "print(\"Number of rows:\", df.shape[0])\n",
        "print(\"Number of columns:\", df.shape[1])"
      ],
      "metadata": {
        "id": "s_OqsTKmHQRF"
      },
      "execution_count": null,
      "outputs": []
    },
    {
      "cell_type": "markdown",
      "source": [
        "### Dataset Information"
      ],
      "metadata": {
        "id": "JlHwYmJAmNHm"
      }
    },
    {
      "cell_type": "code",
      "source": [
        "# Dataset\n",
        "print(df.info())"
      ],
      "metadata": {
        "id": "e9hRXRi6meOf"
      },
      "execution_count": null,
      "outputs": []
    },
    {
      "cell_type": "markdown",
      "source": [
        "#### Duplicate Values"
      ],
      "metadata": {
        "id": "35m5QtbWiB9F"
      }
    },
    {
      "cell_type": "code",
      "source": [
        "# Dataset Duplicate Value Count\n",
        "print(\"Number of duplicate rows:\", df.duplicated().sum())"
      ],
      "metadata": {
        "id": "1sLdpKYkmox0"
      },
      "execution_count": null,
      "outputs": []
    },
    {
      "cell_type": "markdown",
      "source": [
        "#### Missing Values/Null Values"
      ],
      "metadata": {
        "id": "PoPl-ycgm1ru"
      }
    },
    {
      "cell_type": "code",
      "source": [
        "# Missing Values/Null Values Count\n",
        "print(df.isnull().sum())"
      ],
      "metadata": {
        "id": "GgHWkxvamxVg"
      },
      "execution_count": null,
      "outputs": []
    },
    {
      "cell_type": "code",
      "source": [
        "# Visualizing the missing values\n",
        "plt.figure(figsize=(10, 6))\n",
        "sns.heatmap(df.isnull(), cbar=False, cmap='viridis')\n",
        "plt.title('Missing Values Heatmap')\n",
        "plt.show()"
      ],
      "metadata": {
        "id": "drOmnqqPHv7M"
      },
      "execution_count": null,
      "outputs": []
    },
    {
      "cell_type": "markdown",
      "source": [
        "### What did you know about your dataset?"
      ],
      "metadata": {
        "id": "H0kj-8xxnORC"
      }
    },
    {
      "cell_type": "markdown",
      "source": [
        "The dataset used for this project contains detailed information about Uber ride requests, capturing both temporal and categorical variables relevant to analyzing supply-demand dynamics. It consists of 6,745 rows, where each row represents a unique ride request made by a customer. The data spans several days and includes attributes such as the request ID, pickup point, driver ID, status of the ride, and both request and drop timestamps.\n",
        "\n",
        "The Request ID serves as a unique identifier for each ride and ensures there are no duplicates in the dataset. The Pickup Point column identifies whether the ride was requested from the City or the Airport, which allows us to compare behavior across different operational zones. The Driver ID column provides the ID of the driver assigned to the request. A missing value in this column indicates that no driver was assigned, typically corresponding to a “No Cars Available” outcome. The Status column is central to our analysis, capturing whether the ride was completed, cancelled, or unfulfilled due to unavailability of cars. This column helps us distinguish between successful and failed ride fulfillment cases.\n",
        "\n",
        "Two timestamp columns—Request Timestamp and Drop Timestamp—allow for the analysis of ride request patterns over time, including identifying peak hours, calculating trip durations, and spotting shift-related trends. The presence of null values in the Drop Timestamp is associated with trips that were not completed, reinforcing the connection between trip status and temporal activity. Overall, the dataset provides a strong foundation for analyzing not just when and where failures occur, but also why they happen—by linking time, location, driver availability, and ride outcomes."
      ],
      "metadata": {
        "id": "gfoNAAC-nUe_"
      }
    },
    {
      "cell_type": "markdown",
      "source": [
        "## ***2. Understanding Your Variables***"
      ],
      "metadata": {
        "id": "nA9Y7ga8ng1Z"
      }
    },
    {
      "cell_type": "code",
      "source": [
        "# Dataset Columns\n",
        "print(df.columns)"
      ],
      "metadata": {
        "id": "j7xfkqrt5Ag5"
      },
      "execution_count": null,
      "outputs": []
    },
    {
      "cell_type": "code",
      "source": [
        "# Dataset Describe\n",
        "print(df.describe())"
      ],
      "metadata": {
        "id": "DnOaZdaE5Q5t"
      },
      "execution_count": null,
      "outputs": []
    },
    {
      "cell_type": "markdown",
      "source": [
        "### Variables Description"
      ],
      "metadata": {
        "id": "PBTbrJXOngz2"
      }
    },
    {
      "cell_type": "markdown",
      "source": [
        "**Request id**:\n",
        "Unique identifier for each ride request.\n",
        "\n",
        "**Pickup point**:\n",
        "Indicates the location of the request — either City or Airport.\n",
        "\n",
        "**Driver id**:\n",
        "Unique ID of the driver assigned to the request. If missing, no driver was allocated.\n",
        "\n",
        "**Status**:\n",
        "Final outcome of the request — can be Trip Completed, Cancelled, or No Cars Available.\n",
        "\n",
        "**Request timestamp**:\n",
        "Date and time when the ride was requested.\n",
        "\n",
        "**Drop timestamp**:\n",
        "Date and time when the trip ended. Missing if the trip wasn’t completed.\n",
        "\n",
        "**Request Hour**:\n",
        "Extracted from the Request timestamp to analyze hourly trends in demand and trip outcomes.\n",
        "\n",
        "**Request Date**:\n",
        "Separated from the full timestamp to group and filter data by calendar date.\n",
        "\n",
        "**Request Day of Week**:\n",
        "Derived to classify each request by the weekday (e.g., Monday, Tuesday). Useful for identifying weekday vs. weekend behavior.\n",
        "\n",
        "**Time of Day**:\n",
        "Created to categorize requests into morning or evening patterns, aiding shift-based analysis.\n",
        "\n",
        "*    Morning: 07:00:00 to 09:59:59\n",
        "*    Late Morning: 10:00:00 to 12:59:59\n",
        "*    Afternoon: 13:00:00 to 15:59:59\n",
        "*    Evening: 16:00:00 to 18:59:59\n",
        "*    Night: 19:00:00 to 21:59:59\n",
        "*    Late Night: 22:00:00 to 00:59:59\n",
        "*    Midnight Hours: 01:00:00 to 03:59:59\n",
        "*    Early Morning: 04:00:00 to 06:59:59\n",
        "\n"
      ],
      "metadata": {
        "id": "aJV4KIxSnxay"
      }
    },
    {
      "cell_type": "markdown",
      "source": [
        "### Check Unique Values for each variable."
      ],
      "metadata": {
        "id": "u3PMJOP6ngxN"
      }
    },
    {
      "cell_type": "code",
      "source": [
        "# Check Unique Values for each variable.\n",
        "print(df.nunique())"
      ],
      "metadata": {
        "id": "zms12Yq5n-jE"
      },
      "execution_count": null,
      "outputs": []
    },
    {
      "cell_type": "markdown",
      "source": [
        "## 3. ***Data Wrangling***"
      ],
      "metadata": {
        "id": "dauF4eBmngu3"
      }
    },
    {
      "cell_type": "code",
      "source": [
        "df['trip_duration_min'] = (df['Drop_timestamp'] - df['Request_timestamp']).dt.total_seconds() / 60\n",
        "\n",
        "time_order = ['Late Night', 'MidNight Hours', 'Early Morning', 'Morning',\n",
        "              'Late Morning', 'Afternoon', 'Evening', 'Night']\n",
        "day_order = ['Monday', 'Tuesday', 'Wednesday', 'Thursday', 'Friday']\n",
        "\n",
        "df['Status'] = df['Status'].fillna('Unknown')"
      ],
      "metadata": {
        "id": "ec6ST4SpVf3j"
      },
      "execution_count": null,
      "outputs": []
    },
    {
      "cell_type": "markdown",
      "source": [
        "### What all manipulations have you done and insights you found?"
      ],
      "metadata": {
        "id": "MSa1f5Uengrz"
      }
    },
    {
      "cell_type": "markdown",
      "source": [
        "**Data Manipulations were done using Excel**\n",
        "\n",
        "**Handled Missing Values**\n",
        ": Retained nulls in Driver id and Drop timestamp for logical status interpretation (e.g., No Cars Available, Cancelled).\n",
        "\n",
        "**Converted Timestamps**\n",
        ": Standardized Request timestamp and Drop timestamp to proper Excel datetime format.\n",
        "\n",
        "**Created Derived Columns** :\n",
        "Extracted hour, date, day of week, and AM/PM from timestamps.\n",
        "Calculated trip duration and added flags for trip completion and weekday/weekend.\n",
        "\n",
        "**Filtered and Sorted Data** :\n",
        "Sorted by time, location, and status to identify peak hours and patterns.\n",
        "\n",
        "**Removed Duplicates and Inconsistencies** :\n",
        "Ensured data uniqueness and cleaned minor formatting issues."
      ],
      "metadata": {
        "id": "LbyXE7I1olp8"
      }
    },
    {
      "cell_type": "markdown",
      "source": [
        "## ***4. Data Vizualization, Storytelling & Experimenting with charts : Understand the relationships between variables***"
      ],
      "metadata": {
        "id": "GF8Ens_Soomf"
      }
    },
    {
      "cell_type": "markdown",
      "source": [
        "#### Chart - 1 : Ride Status Distribution\n"
      ],
      "metadata": {
        "id": "0wOQAZs5pc--"
      }
    },
    {
      "cell_type": "code",
      "source": [
        "# Chart - 1 visualization code\n",
        "#  Pie chart for Ride Status\n",
        "df['Status'].value_counts().plot.pie(autopct='%1.1f%%', figsize=(6, 6), title='Ride Status Distribution')\n",
        "plt.ylabel('')\n",
        "plt.show()\n"
      ],
      "metadata": {
        "id": "7v_ESjsspbW7"
      },
      "execution_count": null,
      "outputs": []
    },
    {
      "cell_type": "markdown",
      "source": [
        "##### 1. Why did you pick the specific chart?"
      ],
      "metadata": {
        "id": "K5QZ13OEpz2H"
      }
    },
    {
      "cell_type": "markdown",
      "source": [
        "A pie chart was used to visually represent the proportional breakdown of ride statuses — Trip Completed, Cancelled, and No Cars Available. This format makes it easy to understand the relative share of each category at a glance. It’s particularly effective for categorical distributions and helps highlight imbalances in service fulfillment."
      ],
      "metadata": {
        "id": "XESiWehPqBRc"
      }
    },
    {
      "cell_type": "markdown",
      "source": [
        "##### 2. What is/are the insight(s) found from the chart?"
      ],
      "metadata": {
        "id": "lQ7QKXXCp7Bj"
      }
    },
    {
      "cell_type": "markdown",
      "source": [
        "Only 42% of ride requests were successfully completed, while a significant 39.3% failed due to no cars being available and 18.7% were cancelled. This indicates that more than half of customer requests did not result in a ride, suggesting major inefficiencies in driver availability and service reliability.\n",
        "\n"
      ],
      "metadata": {
        "id": "C_j1G7yiqdRP"
      }
    },
    {
      "cell_type": "markdown",
      "source": [
        "##### 3. Will the gained insights help creating a positive business impact?\n",
        "Are there any insights that lead to negative growth? Justify with specific reason."
      ],
      "metadata": {
        "id": "448CDAPjqfQr"
      }
    },
    {
      "cell_type": "markdown",
      "source": [
        "Yes, these insights can help improve operational efficiency by highlighting supply-demand gaps. Addressing the \"No Cars Available\" issue could increase fulfillment rates and customer satisfaction. However, the high failure rate (58%) indicates negative business impact, such as lost revenue and poor customer experience, which must be urgently resolved to prevent churn and negative brand perception."
      ],
      "metadata": {
        "id": "3cspy4FjqxJW"
      }
    },
    {
      "cell_type": "markdown",
      "source": [
        "#### Chart - 2 : Heatmap of Demand by Day and Time"
      ],
      "metadata": {
        "id": "KSlN3yHqYklG"
      }
    },
    {
      "cell_type": "code",
      "source": [
        "# Chart - 2 visualization code\n",
        "#Heatmap of Demand by Day and Time (Heatmap)\n",
        "heatmap_data = df.pivot_table(index='Request_Day',\n",
        "                              columns='Request_Time_of_the_day',\n",
        "                              values='Request_id',\n",
        "                              aggfunc='count')\n",
        "plt.figure(figsize=(10,6))\n",
        "sns.heatmap(heatmap_data, cmap=\"YlGnBu\", annot=True, fmt=\".0f\")\n",
        "plt.title(\"Demand Heatmap by Day and Time Slot\")\n",
        "plt.tight_layout()\n",
        "plt.show()\n"
      ],
      "metadata": {
        "id": "R4YgtaqtYklH"
      },
      "execution_count": null,
      "outputs": []
    },
    {
      "cell_type": "markdown",
      "source": [
        "##### 1. Why did you pick the specific chart?"
      ],
      "metadata": {
        "id": "t6dVpIINYklI"
      }
    },
    {
      "cell_type": "markdown",
      "source": [
        "A heatmap is ideal for visualizing dense data across two categorical variables — in this case, days of the week and time slots. It uses color intensity to represent demand volume, making it quick to spot patterns, peaks, and anomalies across multiple dimensions simultaneously."
      ],
      "metadata": {
        "id": "5aaW0BYyYklI"
      }
    },
    {
      "cell_type": "markdown",
      "source": [
        "##### 2. What is/are the insight(s) found from the chart?"
      ],
      "metadata": {
        "id": "ijmpgYnKYklI"
      }
    },
    {
      "cell_type": "markdown",
      "source": [
        "Demand peaks consistently during the Morning and Night time slots across all weekdays, with Thursday Night showing the highest demand (301 requests). Early Mornings and Evenings also experience moderate to high activity, while Late Nights and Midnight Hours see the least traffic. Fridays show slightly more balanced demand across the day."
      ],
      "metadata": {
        "id": "PSx9atu2YklI"
      }
    },
    {
      "cell_type": "markdown",
      "source": [
        "##### 3. Will the gained insights help creating a positive business impact?\n",
        "Are there any insights that lead to negative growth? Justify with specific reason."
      ],
      "metadata": {
        "id": "-JiQyfWJYklI"
      }
    },
    {
      "cell_type": "markdown",
      "source": [
        "Yes, these insights enable optimized driver deployment during high-demand slots, reducing unfulfilled requests and cancellations. If unaddressed, the clear mismatch during Late Nights and Early Mornings could result in revenue loss and poor user satisfaction, reflecting negative growth. Proactive resource allocation will improve service reliability and revenue per hour."
      ],
      "metadata": {
        "id": "BcBbebzrYklV"
      }
    },
    {
      "cell_type": "markdown",
      "source": [
        "#### Chart - 3 : Trip Status Distribution by Day"
      ],
      "metadata": {
        "id": "EM7whBJCYoAo"
      }
    },
    {
      "cell_type": "code",
      "source": [
        "# Chart - 3 visualization code\n",
        "#Trip Status Distribution by Day\n",
        "\n",
        "fig = px.histogram(df, x=\"Request_Day\", color=\"Status\", barmode=\"group\",\n",
        "                   title=\"Trip Status by Day\", color_discrete_sequence=px.colors.qualitative.Set2)\n",
        "fig.show()"
      ],
      "metadata": {
        "id": "t6GMdE67YoAp"
      },
      "execution_count": null,
      "outputs": []
    },
    {
      "cell_type": "markdown",
      "source": [
        "##### 1. Why did you pick the specific chart?"
      ],
      "metadata": {
        "id": "fge-S5ZAYoAp"
      }
    },
    {
      "cell_type": "markdown",
      "source": [
        "A grouped bar chart was used to compare the distribution of trip statuses (Completed, Cancelled, No Cars Available) across weekdays. This format clearly visualizes day-wise performance breakdowns, allowing quick comparison of success and failure rates over time."
      ],
      "metadata": {
        "id": "5dBItgRVYoAp"
      }
    },
    {
      "cell_type": "markdown",
      "source": [
        "##### 2. What is/are the insight(s) found from the chart?"
      ],
      "metadata": {
        "id": "85gYPyotYoAp"
      }
    },
    {
      "cell_type": "markdown",
      "source": [
        "Trip completions are generally highest on Monday and Wednesday, but Thursday and Friday show a rise in 'No Cars Available' status, even exceeding completed trips on those days. Cancellations remain relatively stable throughout the week. This hints at growing demand-supply gaps toward the weekend.\n",
        "\n"
      ],
      "metadata": {
        "id": "4jstXR6OYoAp"
      }
    },
    {
      "cell_type": "markdown",
      "source": [
        "##### 3. Will the gained insights help creating a positive business impact?\n",
        "Are there any insights that lead to negative growth? Justify with specific reason."
      ],
      "metadata": {
        "id": "RoGjAbkUYoAp"
      }
    },
    {
      "cell_type": "markdown",
      "source": [
        "Yes, the insights can guide better fleet distribution on Thursdays and Fridays, preventing unfulfilled rides. However, the consistently high \"No Cars Available\" rate, especially when it surpasses completions, indicates a negative business trend — customers are likely experiencing frustration, leading to loss of trust and revenue."
      ],
      "metadata": {
        "id": "zfJ8IqMcYoAp"
      }
    },
    {
      "cell_type": "markdown",
      "source": [
        "#### Chart - 4 : Request Status Count by Time of Day"
      ],
      "metadata": {
        "id": "4Of9eVA-YrdM"
      }
    },
    {
      "cell_type": "code",
      "source": [
        "# Chart - 4 visualization code\n",
        "#Request Status Count by Time of Day\n",
        "plt.figure(figsize=(10, 6))\n",
        "sns.countplot(data=df,\n",
        "              x='Request_Time_of_the_day',\n",
        "              hue='Status')\n",
        "plt.title('Request Status Count by Time of Day')\n",
        "plt.xlabel('Time of Day')\n",
        "plt.ylabel('Number of Requests')\n",
        "plt.xticks(rotation=45)\n",
        "plt.legend(title='Status')\n",
        "plt.tight_layout()\n",
        "plt.show()\n",
        "\n"
      ],
      "metadata": {
        "id": "irlUoxc8YrdO"
      },
      "execution_count": null,
      "outputs": []
    },
    {
      "cell_type": "markdown",
      "source": [
        "##### 1. Why did you pick the specific chart?"
      ],
      "metadata": {
        "id": "iky9q4vBYrdO"
      }
    },
    {
      "cell_type": "markdown",
      "source": [
        "A grouped bar chart is perfect for comparing multiple status outcomes across time slots. It allows clear side-by-side comparisons of completed, cancelled, and unfulfilled requests, helping identify which parts of the day face service challenges and which operate efficiently."
      ],
      "metadata": {
        "id": "aJRCwT6DYrdO"
      }
    },
    {
      "cell_type": "markdown",
      "source": [
        "##### 2. What is/are the insight(s) found from the chart?"
      ],
      "metadata": {
        "id": "F6T5p64dYrdO"
      }
    },
    {
      "cell_type": "markdown",
      "source": [
        "The Night and Evening slots show a drastic surge in 'No Cars Available', outpacing trip completions, suggesting severe driver shortages during those times. Morning and Early Morning have better completion rates, while Midnight Hours have the lowest activity overall."
      ],
      "metadata": {
        "id": "Xx8WAJvtYrdO"
      }
    },
    {
      "cell_type": "markdown",
      "source": [
        "##### 3. Will the gained insights help creating a positive business impact?\n",
        "Are there any insights that lead to negative growth? Justify with specific reason."
      ],
      "metadata": {
        "id": "y-Ehk30pYrdP"
      }
    },
    {
      "cell_type": "markdown",
      "source": [
        "Yes, reallocating more drivers to Evening and Night slots can improve fulfillment, customer satisfaction, and revenue. However, the current shortage during peak demand periods poses a risk of user churn, missed earnings, and negative brand sentiment — making it a critical negative insight that must be urgently addressed.\n"
      ],
      "metadata": {
        "id": "jLNxxz7MYrdP"
      }
    },
    {
      "cell_type": "markdown",
      "source": [
        "#### Chart - 5 : Cancelled Requests vs Time of Day"
      ],
      "metadata": {
        "id": "bamQiAODYuh1"
      }
    },
    {
      "cell_type": "code",
      "source": [
        "# Chart - 5 visualization code\n",
        "#Cancelled Requests vs Time of Day (Donut)\n",
        "\n",
        "cancel = df[df['Status'] == 'Cancelled']['Request_Time_of_the_day'].value_counts()\n",
        "fig = px.pie(values=cancel.values, names=cancel.index, hole=0.4,\n",
        "             title=\"Cancelled Requests by Time of Day\")\n",
        "fig.show()\n",
        "\n"
      ],
      "metadata": {
        "id": "TIJwrbroYuh3"
      },
      "execution_count": null,
      "outputs": []
    },
    {
      "cell_type": "markdown",
      "source": [
        "##### 1. Why did you pick the specific chart?"
      ],
      "metadata": {
        "id": "QHF8YVU7Yuh3"
      }
    },
    {
      "cell_type": "markdown",
      "source": [
        "A donut (or pie) chart is ideal for showing proportional contribution of each time slot to the total cancellations. It visually emphasizes dominant contributors and helps identify the time frames needing intervention without overwhelming detail."
      ],
      "metadata": {
        "id": "dcxuIMRPYuh3"
      }
    },
    {
      "cell_type": "markdown",
      "source": [
        "##### 2. What is/are the insight(s) found from the chart?"
      ],
      "metadata": {
        "id": "GwzvFGzlYuh3"
      }
    },
    {
      "cell_type": "markdown",
      "source": [
        "A staggering 41.3% of all cancellations occur in the Morning, followed by 29.4% during Early Morning. Combined, these two slots account for over 70% of all cancellations, indicating major operational inefficiencies when customer demand is typically high."
      ],
      "metadata": {
        "id": "uyqkiB8YYuh3"
      }
    },
    {
      "cell_type": "markdown",
      "source": [
        "##### 3. Will the gained insights help creating a positive business impact?\n",
        "Are there any insights that lead to negative growth? Justify with specific reason."
      ],
      "metadata": {
        "id": "qYpmQ266Yuh3"
      }
    },
    {
      "cell_type": "markdown",
      "source": [
        "Yes, these insights clearly point to a mismatch between driver availability and high demand in the Morning and Early Morning slots. If left unresolved, these time-bound cancellations can damage user trust, lower app retention, and hurt revenue — making this a critical negative trend to fix for positive growth."
      ],
      "metadata": {
        "id": "_WtzZ_hCYuh4"
      }
    },
    {
      "cell_type": "markdown",
      "source": [
        "#### Chart - 6 : No Car Available vs Time of Day"
      ],
      "metadata": {
        "id": "OH-pJp9IphqM"
      }
    },
    {
      "cell_type": "code",
      "source": [
        "# Chart - 6 visualization code\n",
        "#No Car Available vs Time of Day (Donut)\n",
        "nocar = df[df['Status'] == 'No Cars Available']['Request_Time_of_the_day'].value_counts()\n",
        "fig = px.pie(values=nocar.values, names=nocar.index, hole=0.4,\n",
        "             title=\"No Cars Available by Time of Day\")\n",
        "fig.show()\n"
      ],
      "metadata": {
        "id": "kuRf4wtuphqN"
      },
      "execution_count": null,
      "outputs": []
    },
    {
      "cell_type": "markdown",
      "source": [
        "##### 1. Why did you pick the specific chart?"
      ],
      "metadata": {
        "id": "bbFf2-_FphqN"
      }
    },
    {
      "cell_type": "markdown",
      "source": [
        "The donut chart effectively highlights the relative share of time slots contributing to the \"No Cars Available\" issue. It gives a clear visual emphasis on peak problem periods, helping stakeholders prioritize resource allocation decisions based on the size of each segment."
      ],
      "metadata": {
        "id": "loh7H2nzphqN"
      }
    },
    {
      "cell_type": "markdown",
      "source": [
        "##### 2. What is/are the insight(s) found from the chart?"
      ],
      "metadata": {
        "id": "_ouA3fa0phqN"
      }
    },
    {
      "cell_type": "markdown",
      "source": [
        "Night (31.6%) and Evening (22.6%) together account for over half of all unavailability cases, making them the most underserved periods. Other time slots like Late Night and Early Morning also contribute moderately, but the critical shortage lies in late-day hours."
      ],
      "metadata": {
        "id": "VECbqPI7phqN"
      }
    },
    {
      "cell_type": "markdown",
      "source": [
        "##### 3. Will the gained insights help creating a positive business impact?\n",
        "Are there any insights that lead to negative growth? Justify with specific reason."
      ],
      "metadata": {
        "id": "Seke61FWphqN"
      }
    },
    {
      "cell_type": "markdown",
      "source": [
        "Absolutely. These insights help in shifting driver supply to Night and Evening, where the platform is currently losing customers due to non-availability. Ignoring this can lead to high churn rates, low ride conversion, and reputational damage, making it a vital area for corrective action to prevent negative growth."
      ],
      "metadata": {
        "id": "DW4_bGpfphqN"
      }
    },
    {
      "cell_type": "markdown",
      "source": [
        "#### Chart - 7 : City Pickup - Request Status by Time of Day"
      ],
      "metadata": {
        "id": "PIIx-8_IphqN"
      }
    },
    {
      "cell_type": "code",
      "source": [
        "# Chart - 7 visualization code\n",
        "# Filter City data\n",
        "city_df = df[df['Pickup_point'] == 'City']\n",
        "\n",
        "# Plot\n",
        "plt.figure(figsize=(10, 5))\n",
        "sns.countplot(data=city_df, x='Request_Time_of_the_day', hue='Status', palette='Set2')\n",
        "plt.title(\"City Pickup - Request Status by Time of Day\")\n",
        "plt.xlabel(\"Time of Day\")\n",
        "plt.ylabel(\"Number of Requests\")\n",
        "plt.xticks(rotation=45)\n",
        "plt.legend(title='Status')\n",
        "plt.tight_layout()\n",
        "plt.show()\n"
      ],
      "metadata": {
        "id": "lqAIGUfyphqO"
      },
      "execution_count": null,
      "outputs": []
    },
    {
      "cell_type": "markdown",
      "source": [
        "##### 1. Why did you pick the specific chart?"
      ],
      "metadata": {
        "id": "t27r6nlMphqO"
      }
    },
    {
      "cell_type": "markdown",
      "source": [
        "A grouped bar chart was used to compare three statuses across multiple time slots, helping visualize the distribution and competition among Trip Completed, Cancelled, and No Cars Available for each time of day. It’s best suited for comparative and categorical analysis across segments."
      ],
      "metadata": {
        "id": "iv6ro40sphqO"
      }
    },
    {
      "cell_type": "markdown",
      "source": [
        "##### 2. What is/are the insight(s) found from the chart?"
      ],
      "metadata": {
        "id": "r2jJGEOYphqO"
      }
    },
    {
      "cell_type": "markdown",
      "source": [
        "The Morning and Early Morning slots show a high number of cancellations, indicating driver reluctance or availability issues at city pickups during high-demand hours. In contrast, Evening and Night show better performance with higher completion rates and lower failure rates."
      ],
      "metadata": {
        "id": "Po6ZPi4hphqO"
      }
    },
    {
      "cell_type": "markdown",
      "source": [
        "##### 3. Will the gained insights help creating a positive business impact?\n",
        "Are there any insights that lead to negative growth? Justify with specific reason."
      ],
      "metadata": {
        "id": "b0JNsNcRphqO"
      }
    },
    {
      "cell_type": "markdown",
      "source": [
        "Yes — identifying failure-prone time slots allows for optimized driver dispatching or incentive strategies to cover underserved morning hours. Ignoring high cancellations during peak demand can lead to customer dissatisfaction and potential loss, negatively impacting growth and user retention."
      ],
      "metadata": {
        "id": "xvSq8iUTphqO"
      }
    },
    {
      "cell_type": "markdown",
      "source": [
        "#### Chart - 8 : Airport Pickup - Request Status by Time of Day"
      ],
      "metadata": {
        "id": "BZR9WyysphqO"
      }
    },
    {
      "cell_type": "code",
      "source": [
        "# Chart - 8 visualization code\n",
        "# Filter Airport data\n",
        "airport_df = df[df['Pickup_point'] == 'Airport']\n",
        "\n",
        "# Plot\n",
        "plt.figure(figsize=(10, 5))\n",
        "sns.countplot(data=airport_df, x='Request_Time_of_the_day', hue='Status', palette='Set2')\n",
        "plt.title(\"Airport Pickup - Request Status by Time of Day\")\n",
        "plt.xlabel(\"Time of Day\")\n",
        "plt.ylabel(\"Number of Requests\")\n",
        "plt.xticks(rotation=45)\n",
        "plt.legend(title='Status')\n",
        "plt.tight_layout()\n",
        "plt.show()\n"
      ],
      "metadata": {
        "id": "TdPTWpAVphqO"
      },
      "execution_count": null,
      "outputs": []
    },
    {
      "cell_type": "markdown",
      "source": [
        "##### 1. Why did you pick the specific chart?"
      ],
      "metadata": {
        "id": "jj7wYXLtphqO"
      }
    },
    {
      "cell_type": "markdown",
      "source": [
        "This grouped bar chart is ideal to show how the three ride statuses (Trip Completed, Cancelled, No Cars Available) fluctuate across different time slots specifically for airport pickups. It provides a clear side-by-side comparison to identify problem periods."
      ],
      "metadata": {
        "id": "Ob8u6rCTphqO"
      }
    },
    {
      "cell_type": "markdown",
      "source": [
        "##### 2. What is/are the insight(s) found from the chart?"
      ],
      "metadata": {
        "id": "eZrbJ2SmphqO"
      }
    },
    {
      "cell_type": "markdown",
      "source": [
        "There is a surge in unfulfilled requests (No Cars Available) during Evening and Night, indicating a serious supply gap at peak hours. Morning and Early Morning have relatively better service levels, but still see moderate cancellations."
      ],
      "metadata": {
        "id": "mZtgC_hjphqO"
      }
    },
    {
      "cell_type": "markdown",
      "source": [
        "##### 3. Will the gained insights help creating a positive business impact?\n",
        "Are there any insights that lead to negative growth? Justify with specific reason."
      ],
      "metadata": {
        "id": "rFu4xreNphqO"
      }
    },
    {
      "cell_type": "markdown",
      "source": [
        "Yes — reallocating drivers to Night and Evening shifts at the airport can reduce unfulfilled demand and boost revenue. However, if this insight is ignored, it may result in negative customer experience, increased churn, and reputational damage during high-traffic hours."
      ],
      "metadata": {
        "id": "ey_0qi68phqO"
      }
    },
    {
      "cell_type": "markdown",
      "source": [
        "#### Chart - 9 : City - Request Outcomes by Time of Day"
      ],
      "metadata": {
        "id": "YJ55k-q6phqO"
      }
    },
    {
      "cell_type": "code",
      "source": [
        "# Chart - 9 visualization code\n",
        "# Group data by Pickup Point and Time of Day\n",
        "grouped = df.groupby(['Pickup_point', 'Request_Time_of_the_day'])\n",
        "\n",
        "# Calculate total requests and breakdown by status\n",
        "total_requests = grouped.size()\n",
        "completed = grouped['Status'].apply(lambda x: (x == 'Trip Completed').sum())\n",
        "cancelled = grouped['Status'].apply(lambda x: (x == 'Cancelled').sum())\n",
        "no_cars = grouped['Status'].apply(lambda x: (x == 'No Cars Available').sum())\n",
        "\n",
        "# Create a DataFrame with percentage metrics\n",
        "status_percent = pd.DataFrame({\n",
        "    'Completed+Cancelled (%)': 100 * (completed + cancelled) / total_requests,\n",
        "    'No Cars Available (%)': 100 * no_cars / total_requests\n",
        "}).reset_index()\n",
        "\n",
        "# Filter for City pickup point\n",
        "city_df = status_percent[status_percent['Pickup_point'] == 'City'].sort_values(by='Request_Time_of_the_day')\n",
        "\n",
        "# Plot\n",
        "plt.figure(figsize=(10, 5))\n",
        "plt.bar(city_df['Request_Time_of_the_day'], city_df['Completed+Cancelled (%)'], label='Completed+Cancelled', color='mediumseagreen')\n",
        "plt.bar(city_df['Request_Time_of_the_day'], city_df['No Cars Available (%)'],\n",
        "        bottom=city_df['Completed+Cancelled (%)'], label='No Cars Available', color='tomato')\n",
        "\n",
        "plt.title(\"City - Request Outcomes by Time of Day\")\n",
        "plt.xlabel(\"Time of Day\")\n",
        "plt.ylabel(\"Percentage (%)\")\n",
        "plt.xticks(rotation=45)\n",
        "plt.legend()\n",
        "plt.tight_layout()\n",
        "plt.show()\n"
      ],
      "metadata": {
        "id": "B2aS4O1ophqO"
      },
      "execution_count": null,
      "outputs": []
    },
    {
      "cell_type": "markdown",
      "source": [
        "##### 1. Why did you pick the specific chart?"
      ],
      "metadata": {
        "id": "gCFgpxoyphqP"
      }
    },
    {
      "cell_type": "markdown",
      "source": [
        "A stacked percentage bar chart was used to highlight the relative success vs. failure of ride requests in the city across different time slots. It helps visually compare fulfillment efficiency without being biased by absolute volume differences."
      ],
      "metadata": {
        "id": "TVxDimi2phqP"
      }
    },
    {
      "cell_type": "markdown",
      "source": [
        "##### 2. What is/are the insight(s) found from the chart?"
      ],
      "metadata": {
        "id": "OVtJsKN_phqQ"
      }
    },
    {
      "cell_type": "markdown",
      "source": [
        "During Midnight Hours and Late Night, over 40% of requests go unfulfilled due to no cars being available. In contrast, Night and Morning time slots show high fulfillment, indicating better driver availability."
      ],
      "metadata": {
        "id": "ngGi97qjphqQ"
      }
    },
    {
      "cell_type": "markdown",
      "source": [
        "##### 3. Will the gained insights help creating a positive business impact?\n",
        "Are there any insights that lead to negative growth? Justify with specific reason."
      ],
      "metadata": {
        "id": "lssrdh5qphqQ"
      }
    },
    {
      "cell_type": "markdown",
      "source": [
        "Yes — optimizing driver allocation in Midnight and Late Night hours can capture currently missed demand. If left unchecked, the high failure rate during these hours may lead to customer dissatisfaction, revenue loss, and negative word-of-mouth, impacting long-term growth."
      ],
      "metadata": {
        "id": "tBpY5ekJphqQ"
      }
    },
    {
      "cell_type": "markdown",
      "source": [
        "#### Chart - 10 : Airport - Request Outcomes by Time of Day"
      ],
      "metadata": {
        "id": "U2RJ9gkRphqQ"
      }
    },
    {
      "cell_type": "code",
      "source": [
        "# Chart - 10 visualization code\n",
        "# Filter for Airport pickup point\n",
        "airport_df = status_percent[status_percent['Pickup_point'] == 'Airport'].sort_values(by='Request_Time_of_the_day')\n",
        "\n",
        "# Plot\n",
        "plt.figure(figsize=(10, 5))\n",
        "plt.bar(airport_df['Request_Time_of_the_day'], airport_df['Completed+Cancelled (%)'], label='Completed+Cancelled', color='mediumseagreen')\n",
        "plt.bar(airport_df['Request_Time_of_the_day'], airport_df['No Cars Available (%)'],\n",
        "        bottom=airport_df['Completed+Cancelled (%)'], label='No Cars Available', color='tomato')\n",
        "\n",
        "plt.title(\"Airport - Request Outcomes by Time of Day\")\n",
        "plt.xlabel(\"Time of Day\")\n",
        "plt.ylabel(\"Percentage (%)\")\n",
        "plt.xticks(rotation=45)\n",
        "plt.legend()\n",
        "plt.tight_layout()\n",
        "plt.show()\n"
      ],
      "metadata": {
        "id": "GM7a4YP4phqQ"
      },
      "execution_count": null,
      "outputs": []
    },
    {
      "cell_type": "markdown",
      "source": [
        "##### 1. Why did you pick the specific chart?"
      ],
      "metadata": {
        "id": "1M8mcRywphqQ"
      }
    },
    {
      "cell_type": "markdown",
      "source": [
        "A stacked percentage bar chart clearly showcases the proportion of successful vs. unfulfilled ride requests at the airport for each time slot. It allows comparison across time slots while maintaining focus on percentage-based service efficiency."
      ],
      "metadata": {
        "id": "8agQvks0phqQ"
      }
    },
    {
      "cell_type": "markdown",
      "source": [
        "##### 2. What is/are the insight(s) found from the chart?"
      ],
      "metadata": {
        "id": "tgIPom80phqQ"
      }
    },
    {
      "cell_type": "markdown",
      "source": [
        "Demand fulfillment is very poor during Night and Evening, where over 70% of requests go unfulfilled. In contrast, Morning and Early Morning show excellent performance with over 80–90% success rates in fulfilling requests."
      ],
      "metadata": {
        "id": "Qp13pnNzphqQ"
      }
    },
    {
      "cell_type": "markdown",
      "source": [
        "##### 3. Will the gained insights help creating a positive business impact?\n",
        "Are there any insights that lead to negative growth? Justify with specific reason."
      ],
      "metadata": {
        "id": "JMzcOPDDphqR"
      }
    },
    {
      "cell_type": "markdown",
      "source": [
        "Yes — aligning driver shifts to better cover Night and Evening hours at the airport can significantly reduce missed opportunities and boost revenue. If ignored, the high failure rates at peak outbound times (like late flights) could lead to negative user experiences and churn."
      ],
      "metadata": {
        "id": "R4Ka1PC2phqR"
      }
    },
    {
      "cell_type": "markdown",
      "source": [
        "#### Chart - 11 : Cancellation Rate by Pickup Point"
      ],
      "metadata": {
        "id": "x-EpHcCOp1ci"
      }
    },
    {
      "cell_type": "code",
      "source": [
        "# Chart - 11 visualization code\n",
        "# Group data by Pickup Point and Time of Day\n",
        "grouped = df.groupby(['Pickup_point', 'Request_Time_of_the_day'])\n",
        "\n",
        "# Calculate total requests and individual status counts\n",
        "total = grouped.size()\n",
        "completed = grouped['Status'].apply(lambda x: (x == 'Trip Completed').sum())\n",
        "cancelled = grouped['Status'].apply(lambda x: (x == 'Cancelled').sum())\n",
        "no_cars = grouped['Status'].apply(lambda x: (x == 'No Cars Available').sum())\n",
        "\n",
        "# Compute percentage metrics\n",
        "completed_cancelled_pct = 100 * (completed + cancelled) / total\n",
        "no_cars_pct = 100 * no_cars / total\n",
        "\n",
        "# Create summary table with percentage breakdown\n",
        "status_percent_table = pd.DataFrame({\n",
        "    'Completed+Cancelled (%)': completed_cancelled_pct,\n",
        "    'No Cars Available (%)': no_cars_pct\n",
        "}).reset_index()\n",
        "\n",
        "# Add interpretation column based on which percentage is higher\n",
        "status_percent_table['Interpretation'] = status_percent_table.apply(\n",
        "    lambda row: 'Supply Not Sufficient' if row['No Cars Available (%)'] > row['Completed+Cancelled (%)']\n",
        "    else 'Cars Seem On Duty',\n",
        "    axis=1\n",
        ")\n",
        "\n",
        "# Calculate cancellation rate by pickup point\n",
        "cancel_data = df[df['Status'] == 'Cancelled'].groupby('Pickup_point')['Request_id'].count()\n",
        "total_data = df.groupby('Pickup_point')['Request_id'].count()\n",
        "cancel_rate = (cancel_data / total_data * 100).fillna(0)\n",
        "\n",
        "# Plot lollipop chart\n",
        "plt.figure(figsize=(6,4))\n",
        "plt.stem(cancel_rate.index, cancel_rate.values, basefmt=\" \", linefmt='b-', markerfmt='bo')\n",
        "plt.ylabel(\"Cancellation Rate (%)\")\n",
        "plt.title(\"Cancellation Rate by Pickup Point\")\n",
        "plt.tight_layout()\n",
        "plt.show()\n",
        "\n"
      ],
      "metadata": {
        "id": "mAQTIvtqp1cj"
      },
      "execution_count": null,
      "outputs": []
    },
    {
      "cell_type": "markdown",
      "source": [
        "##### 1. Why did you pick the specific chart?"
      ],
      "metadata": {
        "id": "X_VqEhTip1ck"
      }
    },
    {
      "cell_type": "markdown",
      "source": [
        "A line plot with markers is ideal here to emphasize the sharp contrast between two categorical points—Airport and City—while also giving a clean and minimal visual to highlight the cancellation disparity.\n",
        "\n"
      ],
      "metadata": {
        "id": "-vsMzt_np1ck"
      }
    },
    {
      "cell_type": "markdown",
      "source": [
        "##### 2. What is/are the insight(s) found from the chart?"
      ],
      "metadata": {
        "id": "8zGJKyg5p1ck"
      }
    },
    {
      "cell_type": "markdown",
      "source": [
        "The City has a cancellation rate of over 30%, significantly higher than the Airport’s ~6%. This shows driver cancellations are more frequent for City pickups, potentially due to traffic, short trip distances, or low fare returns.\n",
        "\n"
      ],
      "metadata": {
        "id": "ZYdMsrqVp1ck"
      }
    },
    {
      "cell_type": "markdown",
      "source": [
        "##### 3. Will the gained insights help creating a positive business impact?\n",
        "Are there any insights that lead to negative growth? Justify with specific reason."
      ],
      "metadata": {
        "id": "PVzmfK_Ep1ck"
      }
    },
    {
      "cell_type": "markdown",
      "source": [
        "Yes, it highlights a negative growth driver—high City cancellation rates may frustrate customers, reduce trust, and drive them to competitors. Implementing driver incentives for short trips or dynamic pricing can improve City service reliability and customer retention."
      ],
      "metadata": {
        "id": "druuKYZpp1ck"
      }
    },
    {
      "cell_type": "markdown",
      "source": [
        "#### Chart - 12 : Average Trip Duration by Pickup Point"
      ],
      "metadata": {
        "id": "n3dbpmDWp1ck"
      }
    },
    {
      "cell_type": "code",
      "source": [
        "# Chart - 12 visualization code\n",
        "import matplotlib.pyplot as plt\n",
        "import seaborn as sns\n",
        "\n",
        "# Filter only completed trips\n",
        "duration_df = df[df['Status'] == 'Trip Completed'].copy()\n",
        "\n",
        "# Calculate trip duration in minutes\n",
        "duration_df['Trip_duration'] = (duration_df['Drop_timestamp'] - duration_df['Request_timestamp']).dt.total_seconds() / 60\n",
        "\n",
        "# Compute average trip duration by pickup point\n",
        "avg_duration_pickup = duration_df.groupby('Pickup_point')['Trip_duration'].mean().sort_values()\n",
        "\n",
        "# Plot average duration as a bar chart\n",
        "plt.figure(figsize=(8, 5))\n",
        "sns.barplot(x=avg_duration_pickup.index, y=avg_duration_pickup.values, palette='coolwarm')\n",
        "\n",
        "plt.title(\"Average Trip Duration by Pickup Point\")\n",
        "plt.ylabel(\"Average Duration (minutes)\")\n",
        "plt.xlabel(\"Pickup Point\")\n",
        "plt.ylim(50, 53)\n",
        "plt.grid(axis='y', linestyle='--', alpha=0.5)\n",
        "plt.tight_layout()\n",
        "plt.show()\n"
      ],
      "metadata": {
        "id": "bwevp1tKp1ck"
      },
      "execution_count": null,
      "outputs": []
    },
    {
      "cell_type": "markdown",
      "source": [
        "##### 1. Why did you pick the specific chart?"
      ],
      "metadata": {
        "id": "ylSl6qgtp1ck"
      }
    },
    {
      "cell_type": "markdown",
      "source": [
        "A bar chart is effective for comparing average values across distinct categories—in this case, Airport vs City pickup points. It clearly visualizes subtle but important differences in trip durations.\n",
        "\n"
      ],
      "metadata": {
        "id": "m2xqNkiQp1ck"
      }
    },
    {
      "cell_type": "markdown",
      "source": [
        "##### 2. What is/are the insight(s) found from the chart?"
      ],
      "metadata": {
        "id": "ZWILFDl5p1ck"
      }
    },
    {
      "cell_type": "markdown",
      "source": [
        "Trips from the City have a slightly longer average duration (~52.6 mins) than those from the Airport (~52.2 mins). While the difference is marginal, it may indicate greater traffic congestion or longer routes originating from the City."
      ],
      "metadata": {
        "id": "x-lUsV2mp1ck"
      }
    },
    {
      "cell_type": "markdown",
      "source": [
        "##### 3. Will the gained insights help creating a positive business impact?\n",
        "Are there any insights that lead to negative growth? Justify with specific reason."
      ],
      "metadata": {
        "id": "M7G43BXep1ck"
      }
    },
    {
      "cell_type": "markdown",
      "source": [
        "Yes, these insights can support route optimization strategies or time-based pricing. However, longer City trip durations combined with high cancellation rates may reduce customer satisfaction and driver earnings—posing a risk to growth unless mitigated through traffic pattern analysis or dynamic scheduling."
      ],
      "metadata": {
        "id": "5wwDJXsLp1cl"
      }
    },
    {
      "cell_type": "markdown",
      "source": [
        "#### Chart - 13 : Top 10 Longest Trips - Airport"
      ],
      "metadata": {
        "id": "Ag9LCva-p1cl"
      }
    },
    {
      "cell_type": "code",
      "source": [
        "# Chart - 13 visualization code\n",
        "# Filter completed trips and calculate trip duration in minutes\n",
        "duration_df = df[df['Status'] == 'Trip Completed'].copy()\n",
        "duration_df['Trip_duration'] = (duration_df['Drop_timestamp'] - duration_df['Request_timestamp']).dt.total_seconds() / 60\n",
        "\n",
        "# Split data by pickup point\n",
        "airport_trips = duration_df[duration_df['Pickup_point'] == 'Airport'].copy()\n",
        "city_trips = duration_df[duration_df['Pickup_point'] == 'City'].copy()\n",
        "\n",
        "# Get Top 10 longest trips from each pickup point\n",
        "top_airport = airport_trips.sort_values('Trip_duration', ascending=False).head(10)\n",
        "top_city = city_trips.sort_values('Trip_duration', ascending=False).head(10)\n",
        "\n",
        "# Plot longest Airport trips\n",
        "plt.figure(figsize=(10, 5))\n",
        "sns.barplot(data=top_airport, x='Driver_id', y='Trip_duration', palette='Blues_r')\n",
        "plt.title('Top 10 Longest Trips - Airport')\n",
        "plt.xlabel('Driver ID')\n",
        "plt.ylabel('Trip Duration (minutes)')\n",
        "plt.ylim(75, 85)\n",
        "plt.grid(axis='y', linestyle='--', alpha=0.5)\n",
        "plt.tight_layout()\n",
        "plt.show()\n",
        "\n"
      ],
      "metadata": {
        "id": "EUfxeq9-p1cl"
      },
      "execution_count": null,
      "outputs": []
    },
    {
      "cell_type": "markdown",
      "source": [
        "##### 1. Why did you pick the specific chart?"
      ],
      "metadata": {
        "id": "E6MkPsBcp1cl"
      }
    },
    {
      "cell_type": "markdown",
      "source": [
        "A horizontal bar chart is ideal for ranking and comparing numeric values like trip durations across different Driver IDs. It makes it easy to identify outliers and patterns among the top-performing drivers."
      ],
      "metadata": {
        "id": "V22bRsFWp1cl"
      }
    },
    {
      "cell_type": "markdown",
      "source": [
        "##### 2. What is/are the insight(s) found from the chart?"
      ],
      "metadata": {
        "id": "2cELzS2fp1cl"
      }
    },
    {
      "cell_type": "markdown",
      "source": [
        "The top 10 longest Airport trips all hover between 78–82 minutes, with Driver ID 221.0 logging the longest at 82 minutes. This range suggests a high-duration service cluster, likely due to either long-distance requests or peak-hour delays."
      ],
      "metadata": {
        "id": "ozQPc2_Ip1cl"
      }
    },
    {
      "cell_type": "markdown",
      "source": [
        "##### 3. Will the gained insights help creating a positive business impact?\n",
        "Are there any insights that lead to negative growth? Justify with specific reason."
      ],
      "metadata": {
        "id": "3MPXvC8up1cl"
      }
    },
    {
      "cell_type": "markdown",
      "source": [
        "Yes—knowing which drivers frequently handle longer Airport trips helps with driver allocation, surge pricing, and incentives. However, longer trips also risk customer dissatisfaction if delays are due to operational inefficiencies (e.g., routing or pickup lags), which could negatively affect loyalty if unaddressed."
      ],
      "metadata": {
        "id": "GL8l1tdLp1cl"
      }
    },
    {
      "cell_type": "code",
      "source": [],
      "metadata": {
        "id": "m8R9hZlwbR-J"
      },
      "execution_count": null,
      "outputs": []
    },
    {
      "cell_type": "markdown",
      "source": [
        "#### Chart - 14 : Top 10 Longest Trips - City\n"
      ],
      "metadata": {
        "id": "nWgAA7TnbTTJ"
      }
    },
    {
      "cell_type": "code",
      "source": [
        "# Chart - 14 visualization code\n",
        "\n",
        "# Plot longest City trips\n",
        "plt.figure(figsize=(10, 5))\n",
        "sns.barplot(data=top_city, x='Driver_id', y='Trip_duration', palette='Oranges_r')\n",
        "plt.title('Top 10 Longest Trips - City')\n",
        "plt.xlabel('Driver ID')\n",
        "plt.ylabel('Trip Duration (minutes)')\n",
        "plt.ylim(75, 85)\n",
        "plt.grid(axis='y', linestyle='--', alpha=0.5)\n",
        "plt.tight_layout()\n",
        "plt.show()\n",
        "\n"
      ],
      "metadata": {
        "id": "Bu1_t9anbTTK"
      },
      "execution_count": null,
      "outputs": []
    },
    {
      "cell_type": "markdown",
      "source": [
        "##### 1. Why did you pick the specific chart?"
      ],
      "metadata": {
        "id": "GUtGuT3dbTTK"
      }
    },
    {
      "cell_type": "markdown",
      "source": [
        "A bar chart is used here to visually compare trip durations for the top 10 drivers in City pickups. It's intuitive for spotting extremes and ensuring consistent scaling across values."
      ],
      "metadata": {
        "id": "jrpK2u9ZbTTK"
      }
    },
    {
      "cell_type": "markdown",
      "source": [
        "##### 2. What is/are the insight(s) found from the chart?"
      ],
      "metadata": {
        "id": "-dlQ0Yp1bTTK"
      }
    },
    {
      "cell_type": "markdown",
      "source": [
        "Two drivers (IDs 55.0 and 77.0) recorded the longest trips (~83+ minutes), while the rest range mostly between 79–81 minutes. These trips suggest frequent long-haul city routes, possibly during peak hours or across extended city zones."
      ],
      "metadata": {
        "id": "V0plsQC-bTTL"
      }
    },
    {
      "cell_type": "markdown",
      "source": [
        "##### 3. Will the gained insights help creating a positive business impact?\n",
        "Are there any insights that lead to negative growth? Justify with specific reason."
      ],
      "metadata": {
        "id": "n5UiKfInbTTL"
      }
    },
    {
      "cell_type": "markdown",
      "source": [
        "Yes—insights can help optimize route planning, incentive structures, and driver-hour alignment in City areas. However, longer trip durations in cities could indicate traffic inefficiencies or poor routing, which may lead to negative customer feedback or reduced driver productivity if not addressed."
      ],
      "metadata": {
        "id": "cFaIwxJHbTTL"
      }
    },
    {
      "cell_type": "markdown",
      "source": [
        "#### Chart - 15 : Average Trip Duration by Time of Day"
      ],
      "metadata": {
        "id": "F3FO2lZHbTo7"
      }
    },
    {
      "cell_type": "code",
      "source": [
        "# Chart - 15 visualization code\n",
        "# Average Trip Duration by Time of Day (Line Plot)\n",
        "plt.figure(figsize=(12, 5))\n",
        "\n",
        "# Filter completed trips and calculate trip duration in minutes\n",
        "duration_df = df[df['Status'] == 'Trip Completed'].copy()\n",
        "duration_df['Trip_duration'] = (duration_df['Drop_timestamp'] - duration_df['Request_timestamp']).dt.total_seconds() / 60\n",
        "\n",
        "# Group by time of day and compute average duration\n",
        "avg_duration = duration_df.groupby('Request_Time_of_the_day')['Trip_duration'].mean().sort_index()\n",
        "\n",
        "# Plot line chart\n",
        "avg_duration.plot(marker='o', linestyle='-', color='darkgreen')\n",
        "plt.title(\"Average Trip Duration by Time of Day\")\n",
        "plt.ylabel(\"Avg Duration (mins)\")\n",
        "plt.grid(True)\n",
        "plt.tight_layout()\n",
        "plt.show()\n",
        "\n",
        "\n"
      ],
      "metadata": {
        "id": "iR2lYuxtbTo7"
      },
      "execution_count": null,
      "outputs": []
    },
    {
      "cell_type": "markdown",
      "source": [
        "##### 1. Why did you pick the specific chart?"
      ],
      "metadata": {
        "id": "bnbpzsLtbTo8"
      }
    },
    {
      "cell_type": "markdown",
      "source": [
        "A line chart is ideal for showing changes or trends across an ordered categorical variable—time of day in this case. It clearly reveals how average trip durations rise and fall over a daily cycle.\n",
        "\n"
      ],
      "metadata": {
        "id": "axNUJb7LbTo8"
      }
    },
    {
      "cell_type": "markdown",
      "source": [
        "##### 2. What is/are the insight(s) found from the chart?"
      ],
      "metadata": {
        "id": "fqtdOq0EbTo8"
      }
    },
    {
      "cell_type": "markdown",
      "source": [
        "Average trip durations peak during Midnight Hours (~53.6 mins) and remain elevated in Early Morning and Late Night slots. The shortest durations occur during the Evening (~51.5 mins), possibly due to shorter leisure or intra-city trips.\n",
        "\n"
      ],
      "metadata": {
        "id": "EIWLMeItbTo8"
      }
    },
    {
      "cell_type": "markdown",
      "source": [
        "##### 3. Will the gained insights help creating a positive business impact?\n",
        "Are there any insights that lead to negative growth? Justify with specific reason."
      ],
      "metadata": {
        "id": "ICEi-rhKbTo8"
      }
    },
    {
      "cell_type": "markdown",
      "source": [
        "Yes, the data can help in dynamic driver allocation, fare adjustments, and shift planning based on demand and duration. However, the longer durations during midnight may reflect traffic bottlenecks, safety issues, or lower driver availability, requiring careful intervention to prevent driver fatigue and customer dissatisfaction"
      ],
      "metadata": {
        "id": "B2suSgl6bTo8"
      }
    },
    {
      "cell_type": "markdown",
      "source": [
        "\n",
        "\n",
        "#### Chart - 16 : Unfulfilled Demand by Time Slot"
      ],
      "metadata": {
        "id": "4Me5KEJkbUC3"
      }
    },
    {
      "cell_type": "code",
      "source": [
        "# Chart - 16 visualization code\n",
        "# Unfulfilled Demand by Time Slot (Dumbbell Plot)\n",
        "\n",
        "# Group by time of day and count statuses\n",
        "time_df = df.groupby('Request_Time_of_the_day')['Status'].value_counts().unstack().fillna(0)\n",
        "\n",
        "# Calculate total unfulfilled requests (Cancelled + No Cars Available)\n",
        "time_df['Unfulfilled'] = time_df['Cancelled'] + time_df['No Cars Available']\n",
        "\n",
        "# Sort time slots by total unfulfilled requests\n",
        "time_df = time_df.sort_values('Unfulfilled', ascending=False)\n",
        "\n",
        "# Plot dumbbell chart\n",
        "plt.hlines(y=time_df.index, xmin=0, xmax=time_df['Unfulfilled'], color='gray', linewidth=3)\n",
        "plt.plot(time_df['Unfulfilled'], time_df.index, \"o\", color='red')\n",
        "plt.title(\"Unfulfilled Demand by Time Slot\")\n",
        "plt.xlabel(\"Total Unfulfilled Requests\")\n",
        "plt.tight_layout()\n",
        "plt.show()\n",
        "\n",
        "\n"
      ],
      "metadata": {
        "id": "AJlqCGWubUC3"
      },
      "execution_count": null,
      "outputs": []
    },
    {
      "cell_type": "markdown",
      "source": [
        "##### 1. Why did you pick the specific chart?"
      ],
      "metadata": {
        "id": "3Ntgu-McbUC3"
      }
    },
    {
      "cell_type": "markdown",
      "source": [
        "I picked this chart because it clearly highlights the time slots with the highest number of unfulfilled requests, helping identify operational inefficiencies. The horizontal bar chart format makes it easy to compare demand gaps across time periods."
      ],
      "metadata": {
        "id": "SggSWYaWbUC3"
      }
    },
    {
      "cell_type": "markdown",
      "source": [
        "##### 2. What is/are the insight(s) found from the chart?"
      ],
      "metadata": {
        "id": "hszMQMzEbUC3"
      }
    },
    {
      "cell_type": "markdown",
      "source": [
        "The chart shows that Night, Morning, and Evening time slots experience the highest number of unfulfilled requests, while Midnight Hours and Afternoon have the least. This indicates a mismatch between demand and availability during peak periods."
      ],
      "metadata": {
        "id": "3ptnXSV-bUC3"
      }
    },
    {
      "cell_type": "markdown",
      "source": [
        "##### 3. Will the gained insights help creating a positive business impact?\n",
        "Are there any insights that lead to negative growth? Justify with specific reason."
      ],
      "metadata": {
        "id": "mngaIfvWbUC4"
      }
    },
    {
      "cell_type": "markdown",
      "source": [
        "Yes, the insights can guide resource reallocation or fleet scheduling to meet high-demand slots, leading to improved customer satisfaction and revenue. However, if ignored, the unmet demand during peak hours can result in customer churn and negative growth, as users may shift to competitors offering better availability."
      ],
      "metadata": {
        "id": "WKr0FGJ7bUC4"
      }
    },
    {
      "cell_type": "markdown",
      "source": [
        "#### Chart - 17 : Pickup Point-wise Status Distribution"
      ],
      "metadata": {
        "id": "I1Me4w9ibUHm"
      }
    },
    {
      "cell_type": "code",
      "source": [
        "# Chart - 17 visualization code\n",
        "#Pickup Point-wise Status Distribution (Stacked Bar)\n",
        "\n",
        "pickup_status = df.groupby(['Pickup_point', 'Status']).size().unstack(fill_value=0)\n",
        "\n",
        "pickup_status.plot(kind='bar', stacked=True, figsize=(8,5), colormap='tab10')\n",
        "plt.title(\"Status Breakdown by Pickup Point\")\n",
        "plt.ylabel(\"Count\")\n",
        "plt.tight_layout()\n",
        "plt.show()\n",
        "\n"
      ],
      "metadata": {
        "id": "k58Scey-bUHn"
      },
      "execution_count": null,
      "outputs": []
    },
    {
      "cell_type": "markdown",
      "source": [
        "##### 1. Why did you pick the specific chart?"
      ],
      "metadata": {
        "id": "9e43nwmebUHn"
      }
    },
    {
      "cell_type": "markdown",
      "source": [
        "I chose this chart because it compares the performance and challenges of different pickup points (Airport vs City) in terms of service fulfillment. It provides a segmented view of trip outcomes that can directly inform operational improvements."
      ],
      "metadata": {
        "id": "Wg68CEv6bUHn"
      }
    },
    {
      "cell_type": "markdown",
      "source": [
        "##### 2. What is/are the insight(s) found from the chart?"
      ],
      "metadata": {
        "id": "Ik9HpH23bUHn"
      }
    },
    {
      "cell_type": "markdown",
      "source": [
        "From the chart, we see that:\n",
        "\n",
        "*   Airport has a high number of \"No Cars Available\" issues.\n",
        "\n",
        "*   City has more \"Cancelled\" trips compared to the Airport.\n",
        "\n",
        "*   Trip Completed counts are relatively balanced, but the failure modes differ significantly between the two points."
      ],
      "metadata": {
        "id": "ftwMauW9bUHn"
      }
    },
    {
      "cell_type": "markdown",
      "source": [
        "##### 3. Will the gained insights help creating a positive business impact?\n",
        "Are there any insights that lead to negative growth? Justify with specific reason."
      ],
      "metadata": {
        "id": "VnlL3FOrbUHn"
      }
    },
    {
      "cell_type": "markdown",
      "source": [
        "Yes, these insights can help tailor location-specific strategies—like increasing vehicle availability at the Airport and improving cancellation handling in the City. Ignoring these issues could lead to negative growth, as customers might lose trust in reliability at their respective pickup points, especially if frequent cancellations or unavailability persist."
      ],
      "metadata": {
        "id": "CXGFnpmqbUHn"
      }
    },
    {
      "cell_type": "markdown",
      "source": [
        "#### Chart - 18 : Top 10 Drivers by Completion Rate with most Cancelled Pickup Point\n"
      ],
      "metadata": {
        "id": "YD8G0--XbUMQ"
      }
    },
    {
      "cell_type": "code",
      "source": [
        "# Chart - 18 visualization code\n",
        "# Calculate total and completed requests per driver\n",
        "driver_perf = df[df['Driver_id'].notnull()].groupby('Driver_id').agg(\n",
        "    total_requests=('Status', 'count'),\n",
        "    completed_requests=('Status', lambda x: (x == 'Trip Completed').sum())\n",
        ")\n",
        "\n",
        "# Compute completion rate and filter drivers with at least 5 requests\n",
        "driver_perf['completion_rate'] = 100 * driver_perf['completed_requests'] / driver_perf['total_requests']\n",
        "driver_perf = driver_perf[driver_perf['total_requests'] >= 5]\n",
        "\n",
        "# Get top 10 drivers by completion rate and total requests\n",
        "top_drivers = driver_perf.sort_values(by=['completion_rate', 'total_requests'], ascending=[False, False]).head(10).reset_index()\n",
        "\n",
        "# Get pickup point where each top driver cancels the most\n",
        "cancel_df = df[(df['Status'] == 'Cancelled') & (df['Driver_id'].isin(top_drivers['Driver_id']))]\n",
        "cancel_counts = cancel_df.groupby(['Driver_id', 'Pickup_point']).size().reset_index(name='cancel_count')\n",
        "top_cancel_pickup = cancel_counts.sort_values(['Driver_id', 'cancel_count'], ascending=[True, False]).drop_duplicates('Driver_id')\n",
        "\n",
        "# Add most cancelled pickup point to top drivers\n",
        "top_drivers = top_drivers.merge(top_cancel_pickup[['Driver_id', 'Pickup_point']], on='Driver_id', how='left')\n",
        "top_drivers.rename(columns={'Pickup_point': 'Most_Cancelled_Pickup'}, inplace=True)\n",
        "\n",
        "# Count cancellations at each pickup point for top drivers\n",
        "cancel_summary = cancel_df.groupby(['Driver_id', 'Pickup_point']).size().unstack(fill_value=0)\n",
        "cancel_summary = cancel_summary.rename(columns={\n",
        "    'Airport': 'Airport_Cancellations',\n",
        "    'City': 'City_Cancellations'\n",
        "}).reset_index()\n",
        "\n",
        "# Merge cancellation details into top drivers table\n",
        "top_drivers = top_drivers.merge(cancel_summary, on='Driver_id', how='left')\n",
        "\n",
        "# Fill missing cancellation counts with 0 and convert to integers\n",
        "top_drivers[['Airport_Cancellations', 'City_Cancellations']] = top_drivers[['Airport_Cancellations', 'City_Cancellations']].fillna(0).astype(int)\n",
        "\n",
        "\n",
        "# Bar plot of top 10 drivers by completion rate, annotated with most cancelled pickup point\n",
        "plt.figure(figsize=(15, 6))\n",
        "ax = sns.barplot(data=top_drivers, x='Driver_id', y='completion_rate', palette='viridis')\n",
        "\n",
        "# Annotate each bar with the pickup point where the driver cancels the most\n",
        "for index, row in top_drivers.iterrows():\n",
        "    ax.text(index, row['completion_rate'] + 0.3, row['Most_Cancelled_Pickup'],\n",
        "            ha='center', va='bottom', fontsize=10, color='black')\n",
        "\n",
        "plt.title('Top 10 Drivers by Completion Rate (with Most Cancelled Pickup Point)')\n",
        "plt.ylabel('Completion Rate (%)')\n",
        "plt.xlabel('Driver ID')\n",
        "plt.ylim(90, 100)\n",
        "plt.tight_layout()\n",
        "plt.show()\n",
        "\n"
      ],
      "metadata": {
        "id": "UQXeGarpbUMR"
      },
      "execution_count": null,
      "outputs": []
    },
    {
      "cell_type": "markdown",
      "source": [
        "##### 1. Why did you pick the specific chart?"
      ],
      "metadata": {
        "id": "42lzOhdEbUMR"
      }
    },
    {
      "cell_type": "markdown",
      "source": [
        "I picked this chart because it helps identify top-performing drivers based on trip completion rate and links their performance to specific pickup points. It’s valuable for driver-level performance evaluation and operational improvements."
      ],
      "metadata": {
        "id": "xv1-rYWebUMR"
      }
    },
    {
      "cell_type": "markdown",
      "source": [
        "##### 2. What is/are the insight(s) found from the chart?"
      ],
      "metadata": {
        "id": "qiiMq8TmbUMR"
      }
    },
    {
      "cell_type": "markdown",
      "source": [
        "The chart reveals that some drivers (e.g., IDs 11, 12, 42, 55, 75) have near-perfect completion rates, even in high-cancellation areas like the City or Airport. However, others like IDs 18, 46, and 273 have lower completion rates, mostly associated with the City pickup point."
      ],
      "metadata": {
        "id": "uHuzbw6obUMR"
      }
    },
    {
      "cell_type": "markdown",
      "source": [
        "##### 3. Will the gained insights help creating a positive business impact?\n",
        "Are there any insights that lead to negative growth? Justify with specific reason."
      ],
      "metadata": {
        "id": "kUXE3KD5bUMR"
      }
    },
    {
      "cell_type": "markdown",
      "source": [
        "Yes, recognizing high-performing drivers can aid in incentivizing and training others, boosting service reliability. Conversely, the presence of drivers with poor performance at busy locations like the City could hurt brand trust and customer retention if not addressed through training or resource reallocation"
      ],
      "metadata": {
        "id": "SuSxxDf0bUMR"
      }
    },
    {
      "cell_type": "markdown",
      "source": [
        "#### Chart - 19 : Top 10 Drivers with Most Requests: Completed vs Cancelled"
      ],
      "metadata": {
        "id": "UuQzI8itbUQb"
      }
    },
    {
      "cell_type": "code",
      "source": [
        "# Chart - 19 visualization code\n",
        "# Filter out trips with valid driver IDs\n",
        "driver_df = df[df['Driver_id'].notnull()].copy()\n",
        "\n",
        "# Group by driver and calculate total, completed, and cancelled requests\n",
        "driver_summary = driver_df.groupby('Driver_id').agg(\n",
        "    total_requests=('Status', 'count'),\n",
        "    total_completed=('Status', lambda x: (x == 'Trip Completed').sum()),\n",
        "    total_cancelled=('Status', lambda x: (x == 'Cancelled').sum())\n",
        ")\n",
        "\n",
        "# Select top 10 drivers based on total number of requests\n",
        "top_drivers = driver_summary.sort_values(by='total_requests', ascending=False).head(10)\n",
        "\n",
        "# Determine most cancelled pickup point for each top driver\n",
        "cancel_df = df[(df['Status'] == 'Cancelled') & (df['Driver_id'].isin(top_drivers.index))]\n",
        "pickup_cancel = cancel_df.groupby(['Driver_id', 'Pickup_point']).size().reset_index(name='cancel_count')\n",
        "pickup_top = pickup_cancel.sort_values(['Driver_id', 'cancel_count'], ascending=[True, False]).drop_duplicates('Driver_id')\n",
        "\n",
        "# Merge most cancelled pickup info into top driver summary\n",
        "top_drivers = top_drivers.reset_index()\n",
        "top_drivers = top_drivers.merge(pickup_top[['Driver_id', 'Pickup_point']], on='Driver_id', how='left')\n",
        "top_drivers.set_index('Driver_id', inplace=True)\n",
        "\n",
        "# Plot stacked bar chart of completed vs cancelled trips per driver\n",
        "ax = top_drivers[['total_completed', 'total_cancelled']].plot(\n",
        "    kind='bar',\n",
        "    stacked=True,\n",
        "    figsize=(12, 6),\n",
        "    color=['seagreen', 'salmon']\n",
        ")\n",
        "\n",
        "# Annotate bars with most cancelled pickup point\n",
        "for idx, row in enumerate(top_drivers.itertuples()):\n",
        "    annotation = row.Pickup_point if pd.notnull(row.Pickup_point) else 'N/A'\n",
        "    ax.text(idx, row.total_requests + 0.5, annotation, ha='center', fontsize=9, color='black')\n",
        "\n",
        "plt.title(\"Top 10 Drivers with Most Requests: Completed vs Cancelled\\n(Annotated by Most Cancelled Pickup Point)\")\n",
        "plt.xlabel(\"Driver ID\")\n",
        "plt.ylabel(\"Number of Trips\")\n",
        "plt.xticks(rotation=45)\n",
        "plt.legend(title='Status')\n",
        "plt.grid(axis='y', linestyle='--', alpha=0.5)\n",
        "plt.tight_layout()\n",
        "plt.show()\n",
        "\n"
      ],
      "metadata": {
        "id": "5-O0217HbUQc"
      },
      "execution_count": null,
      "outputs": []
    },
    {
      "cell_type": "markdown",
      "source": [
        "##### 1. Why did you pick the specific chart?"
      ],
      "metadata": {
        "id": "rc1NRBhqbUQc"
      }
    },
    {
      "cell_type": "markdown",
      "source": [
        "I chose this stacked bar chart because it clearly compares the number of trips completed versus cancelled for the top 10 drivers with the most requests. The split by status (completed and cancelled) highlights operational efficiency issues at a glance. Additionally, annotating with the pickup point (“City”) adds context about possible location-based factors. This visualization is simple yet effective for identifying driver-level trends."
      ],
      "metadata": {
        "id": "x7tlvbImbUQc"
      }
    },
    {
      "cell_type": "markdown",
      "source": [
        "##### 2. What is/are the insight(s) found from the chart?"
      ],
      "metadata": {
        "id": "6o25JanebUQd"
      }
    },
    {
      "cell_type": "markdown",
      "source": [
        "The chart shows that some drivers have a high number of cancellations compared to completions. For example, Driver ID 27 has nearly equal completed and cancelled trips, indicating potential reliability issues. The consistent pickup point “City” suggests that cancellations might be driven by urban congestion or coordination challenges. Identifying drivers with unusually high cancellations can help target improvement efforts."
      ],
      "metadata": {
        "id": "kZcszotDbUQd"
      }
    },
    {
      "cell_type": "markdown",
      "source": [
        "##### 3. Will the gained insights help creating a positive business impact?\n",
        "Are there any insights that lead to negative growth? Justify with specific reason."
      ],
      "metadata": {
        "id": "YobZiz3vbUQd"
      }
    },
    {
      "cell_type": "markdown",
      "source": [
        "Yes, these insights can create a positive impact by helping the business address driver performance or location-specific problems, improving completion rates and customer satisfaction. However, if not managed well, identifying high cancellation rates could also reveal systemic issues like traffic or unrealistic driver schedules, which may temporarily highlight negative aspects. Addressing these problems proactively prevents long-term negative growth and optimizes resource allocation."
      ],
      "metadata": {
        "id": "d6DunJQQbUQd"
      }
    },
    {
      "cell_type": "markdown",
      "source": [
        "#### Chart - 20 : Top 10 Drivers with Most Cancellations and Pickup Pattern"
      ],
      "metadata": {
        "id": "UzvPTmIxbUUm"
      }
    },
    {
      "cell_type": "code",
      "source": [
        "# Chart - 20 visualization code\n",
        "# Filter out only cancelled trips with valid driver IDs\n",
        "cancelled_df = df[(df['Status'] == 'Cancelled') & (df['Driver_id'].notnull())].copy()\n",
        "driver_df = df[df['Driver_id'].notnull()].copy()\n",
        "\n",
        "# Total cancellations per driver\n",
        "driver_cancel_count = cancelled_df.groupby('Driver_id').size().reset_index(name='Total_Cancellations')\n",
        "\n",
        "# Identify most cancelled pickup point for each driver\n",
        "pickup_cancel = cancelled_df.groupby(['Driver_id', 'Pickup_point']).size().reset_index(name='Count')\n",
        "most_cancelled_pickup = pickup_cancel.loc[pickup_cancel.groupby('Driver_id')['Count'].idxmax()].rename(columns={'Pickup_point': 'Most_Cancelled_Pickup'})\n",
        "\n",
        "# Total number of requests per driver\n",
        "total_requests = driver_df.groupby('Driver_id').size().reset_index(name='Total_Requests')\n",
        "\n",
        "# Cancellations by pickup point (Airport & City)\n",
        "airport_cancels = cancelled_df[cancelled_df['Pickup_point'] == 'Airport'].groupby('Driver_id').size().reset_index(name='Airport_Cancellations')\n",
        "city_cancels = cancelled_df[cancelled_df['Pickup_point'] == 'City'].groupby('Driver_id').size().reset_index(name='City_Cancellations')\n",
        "\n",
        "# Merge all data into a cancellation summary\n",
        "cancel_summary = driver_cancel_count \\\n",
        "    .merge(most_cancelled_pickup[['Driver_id', 'Most_Cancelled_Pickup']], on='Driver_id', how='left') \\\n",
        "    .merge(total_requests, on='Driver_id', how='left') \\\n",
        "    .merge(airport_cancels, on='Driver_id', how='left') \\\n",
        "    .merge(city_cancels, on='Driver_id', how='left')\n",
        "\n",
        "# Fill missing cancellation counts with 0 and convert to int\n",
        "cancel_summary[['Airport_Cancellations', 'City_Cancellations']] = cancel_summary[['Airport_Cancellations', 'City_Cancellations']].fillna(0).astype(int)\n",
        "\n",
        "# Select top 10 drivers with the highest number of cancellations\n",
        "top_cancel_drivers = cancel_summary.sort_values(by='Total_Cancellations', ascending=False).head(10)\n",
        "\n",
        "# Plot bar chart showing total cancellations per driver with hue for most cancelled pickup point\n",
        "plt.figure(figsize=(10, 5))\n",
        "sns.barplot(data=top_cancel_drivers, x='Driver_id', y='Total_Cancellations', hue='Most_Cancelled_Pickup', palette='Set2')\n",
        "plt.title(\"Top 10 Drivers with Most Cancellations and Pickup Pattern\")\n",
        "plt.xlabel(\"Driver ID\")\n",
        "plt.ylabel(\"Cancellations\")\n",
        "plt.xticks(rotation=45)\n",
        "plt.grid(axis='y', linestyle='--', alpha=0.5)\n",
        "plt.legend(title=\"Most Cancelled Pickup Point\")\n",
        "plt.tight_layout()\n",
        "plt.show()\n"
      ],
      "metadata": {
        "id": "sXCrHttSbUUm"
      },
      "execution_count": null,
      "outputs": []
    },
    {
      "cell_type": "markdown",
      "source": [
        "##### 1. Why did you pick the specific chart?"
      ],
      "metadata": {
        "id": "3Fl37OftbUUn"
      }
    },
    {
      "cell_type": "markdown",
      "source": [
        "I picked this chart because it focuses specifically on the drivers with the highest number of cancellations and highlights their most common pickup points. This helps isolate cancellation patterns to see if they are driver-related or location-specific. Using color to differentiate “City” vs. “Airport” pickup points adds another layer of actionable insight. It’s a clear way to pinpoint operational pain areas."
      ],
      "metadata": {
        "id": "MqMqa58tbUUn"
      }
    },
    {
      "cell_type": "markdown",
      "source": [
        "##### 2. What is/are the insight(s) found from the chart?"
      ],
      "metadata": {
        "id": "k3u6cUqIbUUn"
      }
    },
    {
      "cell_type": "markdown",
      "source": [
        "The chart reveals that most cancellations happen at the “City” pickup point, with only one driver (ID 210) showing high cancellations at the “Airport.” This indicates that urban areas might face more cancellations due to factors like traffic or delays. Also, Driver ID 84 stands out with the highest cancellations, signaling a potential performance or scheduling issue for that driver."
      ],
      "metadata": {
        "id": "HDmD4lc8bUUn"
      }
    },
    {
      "cell_type": "markdown",
      "source": [
        "##### 3. Will the gained insights help creating a positive business impact?\n",
        "Are there any insights that lead to negative growth? Justify with specific reason."
      ],
      "metadata": {
        "id": "gQaFQs_cbUUn"
      }
    },
    {
      "cell_type": "markdown",
      "source": [
        "Yes, these insights will help the business focus on high-cancellation drivers and tackle specific location challenges. Solving urban pickup inefficiencies can boost completion rates and customer trust. However, the high number of city-based cancellations suggests a recurring issue that could hurt growth if ignored. Addressing root causes now will prevent future loss of riders and revenue."
      ],
      "metadata": {
        "id": "MXwEOulRbUUn"
      }
    },
    {
      "cell_type": "markdown",
      "source": [
        "#### Chart - 21 : Long Trip % vs Pickupoint Cancellations"
      ],
      "metadata": {
        "id": "t9MgsYULbUY3"
      }
    },
    {
      "cell_type": "code",
      "source": [
        "# Chart - 21 visualization code\n",
        "# Convert timestamps to datetime\n",
        "df['Request_timestamp'] = pd.to_datetime(df['Request_timestamp'], errors='coerce')\n",
        "df['Drop_timestamp'] = pd.to_datetime(df['Drop_timestamp'], errors='coerce')\n",
        "\n",
        "# Filter rows with valid drivers\n",
        "driver_df = df[df['Driver_id'].notnull()].copy()\n",
        "\n",
        "# Calculate trip duration in minutes\n",
        "driver_df['Trip_duration_min'] = (driver_df['Drop_timestamp'] - driver_df['Request_timestamp']).dt.total_seconds() / 60\n",
        "\n",
        "# Flag long trips (> 30 minutes and completed)\n",
        "driver_df['is_long_trip'] = (driver_df['Status'] == 'Trip Completed') & (driver_df['Trip_duration_min'] > 30)\n",
        "\n",
        "# Group and calculate metrics\n",
        "summary = driver_df.groupby('Driver_id').agg(\n",
        "    total_requests=('Request_id', 'count'),\n",
        "    total_completed=('Status', lambda x: (x == 'Trip Completed').sum()),\n",
        "    airport_long_trips=('is_long_trip', lambda x: (x & (driver_df.loc[x.index, 'Pickup_point'] == 'Airport')).sum()),\n",
        "    city_long_trips=('is_long_trip', lambda x: (x & (driver_df.loc[x.index, 'Pickup_point'] == 'City')).sum()),\n",
        "    airport_cancellations=('Status', lambda x: ((x == 'Cancelled') & (driver_df.loc[x.index, 'Pickup_point'] == 'Airport')).sum()),\n",
        "    city_cancellations=('Status', lambda x: ((x == 'Cancelled') & (driver_df.loc[x.index, 'Pickup_point'] == 'City')).sum())\n",
        ").reset_index()\n",
        "\n",
        "\n",
        "# Compute percentages\n",
        "summary['long_trip_percent'] = 100 * (summary['airport_long_trips'] + summary['city_long_trips']) / summary['total_completed']\n",
        "summary['city_cancel_percent'] = 100 * summary['city_cancellations'] / summary['total_requests']\n",
        "summary['airport_cancel_percent'] = 100 * summary['airport_cancellations'] / summary['total_requests']\n",
        "summary['total_cancel_percent'] = 100 * (summary['airport_cancellations'] + summary['city_cancellations']) / summary['total_requests']\n",
        "\n",
        "\n",
        "# Sort for cleaner X-axis\n",
        "summary = summary.sort_values(by='long_trip_percent')\n",
        "\n",
        "# Plotting\n",
        "plt.figure(figsize=(16, 12))\n",
        "\n",
        "# Plot 1: City Cancel vs Long Trips\n",
        "plt.subplot(3, 1, 1)\n",
        "plt.plot(summary['long_trip_percent'], summary['city_cancel_percent'], marker='o', color='blue')\n",
        "plt.title(\"% Long Trips vs % City Cancellations\")\n",
        "plt.xlabel(\"% Long Trips per Driver\")\n",
        "plt.ylabel(\"% City Cancellations\")\n",
        "plt.grid(True)\n",
        "\n",
        "# Plot 2: Airport Cancel vs Long Trips\n",
        "plt.subplot(3, 1, 2)\n",
        "plt.plot(summary['long_trip_percent'], summary['airport_cancel_percent'], marker='o', color='green')\n",
        "plt.title(\"% Long Trips vs % Airport Cancellations\")\n",
        "plt.xlabel(\"% Long Trips per Driver\")\n",
        "plt.ylabel(\"% Airport Cancellations\")\n",
        "plt.grid(True)\n",
        "\n",
        "# Plot 3: Total Cancel vs Long Trips\n",
        "plt.subplot(3, 1, 3)\n",
        "plt.plot(summary['long_trip_percent'], summary['total_cancel_percent'], marker='o', color='red')\n",
        "plt.title(\"% Long Trips vs % Total Cancellations\")\n",
        "plt.xlabel(\"% Long Trips per Driver\")\n",
        "plt.ylabel(\"% Total Cancellations\")\n",
        "plt.grid(True)\n",
        "\n",
        "plt.tight_layout()\n",
        "plt.show()\n",
        "\n",
        "#Show correlation\n",
        "print(\"Correlation (Long Trip % vs City Cancel %):\", summary['long_trip_percent'].corr(summary['city_cancel_percent']))\n",
        "print(\"Correlation (Long Trip % vs Airport Cancel %):\", summary['long_trip_percent'].corr(summary['airport_cancel_percent']))\n",
        "print(\"Correlation (Long Trip % vs Total Cancel %):\", summary['long_trip_percent'].corr(summary['total_cancel_percent']))"
      ],
      "metadata": {
        "id": "BsASrIvMbUY3"
      },
      "execution_count": null,
      "outputs": []
    },
    {
      "cell_type": "markdown",
      "source": [
        "##### 1. Why did you pick the specific chart?"
      ],
      "metadata": {
        "id": "EXYqY28qbUY3"
      }
    },
    {
      "cell_type": "markdown",
      "source": [
        "I picked this multi-line plot because it examines the relationship between the percentage of long trips per driver and their cancellation rates, segmented by City, Airport, and Total cancellations. This helps test whether trip length influences cancellations at different pickup points. The layout is clear and makes it easy to compare trends side by side. Such a chart is valuable for spotting operational inefficiencies linked to trip patterns."
      ],
      "metadata": {
        "id": "J2LF3CyybUY4"
      }
    },
    {
      "cell_type": "markdown",
      "source": [
        "##### 2. What is/are the insight(s) found from the chart?"
      ],
      "metadata": {
        "id": "CzPO0WHXbUY4"
      }
    },
    {
      "cell_type": "markdown",
      "source": [
        "The charts show that as the percentage of long trips increases, cancellation rates remain scattered with no strong downward trend. City cancellations stay relatively high for drivers with high long-trip percentages. Airport cancellations are generally lower and more stable. This suggests that long trips alone don’t significantly reduce cancellations and that urban pickups still face high cancellation risks.Answer Here"
      ],
      "metadata": {
        "id": "7ay8D19JbUY4"
      }
    },
    {
      "cell_type": "markdown",
      "source": [
        "##### 3. Will the gained insights help creating a positive business impact?\n",
        "Are there any insights that lead to negative growth? Justify with specific reason."
      ],
      "metadata": {
        "id": "MZbOBvLxbUY4"
      }
    },
    {
      "cell_type": "markdown",
      "source": [
        "Yes, these insights will help the business see that focusing only on increasing long trips may not fix the cancellation issue, especially in cities. Targeted measures for urban pickups are needed to address driver or routing inefficiencies. Without action, high cancellation rates for long city trips could lead to lost revenue and dissatisfied customers, negatively affecting growth. Proactive strategies will convert these insights into positive impact."
      ],
      "metadata": {
        "id": "U9n7-gNYbUY4"
      }
    },
    {
      "cell_type": "markdown",
      "source": [
        "## **5. Solution to Business Objective**"
      ],
      "metadata": {
        "id": "JcMwzZxoAimU"
      }
    },
    {
      "cell_type": "markdown",
      "source": [
        "#### What do you suggest the client to achieve Business Objective ?\n",
        "Explain Briefly."
      ],
      "metadata": {
        "id": "8G2x9gOozGDZ"
      }
    },
    {
      "cell_type": "markdown",
      "source": [
        "To bridge the supply-demand gap, especially during peak time slots like Morning, Evening, and Night, the company should optimize fleet allocation and driver availability based on historical request patterns. This can be done by dynamically scheduling drivers and incentivizing them to be active during high-demand periods.\n",
        "\n",
        "Location-wise, Airport pickups suffer from availability issues, while City pickups face high cancellations, especially during traffic-prone hours. The business should focus on increasing driver availability at the Airport and implementing driver support, route planning, or cancellation penalties in the City to improve reliability.\n",
        "\n",
        "Driver-level analysis showed that a small set of drivers contribute to most cancellations, especially in cities. By identifying, retraining, or reassigning such drivers, service quality can be improved. Conversely, top-performing drivers should be rewarded and used as benchmark models for training others.\n",
        "\n",
        "Although long trips are often completed successfully, they do not directly reduce cancellations, especially for City pickups. Hence, longer trips alone shouldn't be the focus—instead, address root causes like traffic, waiting times, or unclear pickup points.\n",
        "\n",
        "Finally, dashboards in Excel and summary charts indicate that customer churn risk is high if unfulfilled and cancelled requests are ignored. By taking a data-driven, time-slot-specific, and location-aware approach, the client can enhance completion rates, improve rider trust, and ultimately boost revenue."
      ],
      "metadata": {
        "id": "pASKb0qOza21"
      }
    },
    {
      "cell_type": "markdown",
      "source": [
        "# **Conclusion**"
      ],
      "metadata": {
        "id": "gCX9965dhzqZ"
      }
    },
    {
      "cell_type": "markdown",
      "source": [
        "The analysis reveals significant supply-demand mismatches during peak hours, especially in the Morning, Evening, and Night time slots. City pickups suffer from high cancellation rates, while Airport pickups face frequent unavailability. Specific drivers contribute disproportionately to cancellations, suggesting the need for targeted training and resource reallocation. Long trips do not directly reduce cancellation risks, especially in urban areas. Addressing time-slot and location-specific issues, improving driver performance, and incentivizing high-demand coverage can enhance service reliability. Implementing these insights will help the client boost customer satisfaction, optimize fleet efficiency, and drive sustainable business growth."
      ],
      "metadata": {
        "id": "Fjb1IsQkh3yE"
      }
    },
    {
      "cell_type": "markdown",
      "source": [
        "### ***Hurrah! You have successfully completed your EDA Capstone Project !!!***"
      ],
      "metadata": {
        "id": "gIfDvo9L0UH2"
      }
    },
    {
      "cell_type": "code",
      "source": [],
      "metadata": {
        "id": "dYX880etpL0x"
      },
      "execution_count": null,
      "outputs": []
    },
    {
      "cell_type": "code",
      "source": [],
      "metadata": {
        "id": "-6Vl263upPVI"
      },
      "execution_count": null,
      "outputs": []
    }
  ]
}